{
 "cells": [
  {
   "cell_type": "code",
   "execution_count": 2,
   "metadata": {},
   "outputs": [],
   "source": [
    "import pandas as pd\n",
    "import yfinance as yf\n",
    "import numpy as np\n",
    "import json\n",
    "start = \"2017-06-01\"\n",
    "# 只下載是成分股的股票\n",
    "with open(\"../DB/0056_Ingred.json\", \"r\", encoding=\"UTF-8\") as f:\n",
    "    ingredient_stock = json.load(f)\n",
    "with open(\"../DB/tw_stock_symbol_code.json\", \"r\") as f:\n",
    "    tw_stock_symbol_code = json.load(f)\n",
    "\n",
    "# 有對照錯誤的股票中文名稱\n",
    "check = {'聚陽實業':'聚陽',\n",
    "         \"矽品\": \"矽品精密\",\n",
    "         \"仁寶電腦\":\"仁寶\",\n",
    "         \"群創光電\":\"群創\",\n",
    "         \"微星科技\":\"微星\",\n",
    "         \"智邦科技\":\"智邦\",\n",
    "         \"群光電子\":\"群光\",\n",
    "         \"聯強國際\":\"聯強\",\n",
    "         \"創見資訊\":\"創見\"\n",
    "\n",
    "         }\n",
    "\n",
    "# 用一個list 紀錄已經有下載過的成分股股價\n",
    "hist = []\n",
    "# 用 i(keys) loop 所有以季區分成分股\n",
    "for i in ingredient_stock:\n",
    "    for codename in ingredient_stock[i]:\n",
    "        if codename not in hist:\n",
    "            # 確認有沒有下載過，沒有的話就用中文名稱對照代號 => 下載\n",
    "            hist.append(codename)\n",
    "            try:\n",
    "                symbol = tw_stock_symbol_code[codename]\n",
    "            except:\n",
    "                symbol = tw_stock_symbol_code[check[codename]]\n",
    "            data = yf.download(f\"{symbol}.TW\", start=start, interval=\"1d\", progress=False)"
   ]
  }
 ],
 "metadata": {
  "kernelspec": {
   "display_name": "Python 3",
   "language": "python",
   "name": "python3"
  },
  "language_info": {
   "codemirror_mode": {
    "name": "ipython",
    "version": 3
   },
   "file_extension": ".py",
   "mimetype": "text/x-python",
   "name": "python",
   "nbconvert_exporter": "python",
   "pygments_lexer": "ipython3",
   "version": "3.11.6"
  }
 },
 "nbformat": 4,
 "nbformat_minor": 2
}
